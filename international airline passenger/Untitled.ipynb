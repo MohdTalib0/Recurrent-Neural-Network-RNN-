{
 "cells": [
  {
   "cell_type": "code",
   "execution_count": 27,
   "id": "16f5bbe4",
   "metadata": {},
   "outputs": [],
   "source": [
    "from pandas import read_csv\n",
    "import numpy as np\n",
    "from sklearn.preprocessing import MinMaxScaler"
   ]
  },
  {
   "cell_type": "code",
   "execution_count": 15,
   "id": "cbc04f0b",
   "metadata": {},
   "outputs": [],
   "source": [
    "df = pd.read_csv(\"E:/MEGA Downloads/50. RNN/12.1 Preparing Data For RNN/international-airline-passengers.csv\",usecols=[1])"
   ]
  },
  {
   "cell_type": "code",
   "execution_count": 16,
   "id": "05617cfd",
   "metadata": {},
   "outputs": [
    {
     "data": {
      "text/html": [
       "<div>\n",
       "<style scoped>\n",
       "    .dataframe tbody tr th:only-of-type {\n",
       "        vertical-align: middle;\n",
       "    }\n",
       "\n",
       "    .dataframe tbody tr th {\n",
       "        vertical-align: top;\n",
       "    }\n",
       "\n",
       "    .dataframe thead th {\n",
       "        text-align: right;\n",
       "    }\n",
       "</style>\n",
       "<table border=\"1\" class=\"dataframe\">\n",
       "  <thead>\n",
       "    <tr style=\"text-align: right;\">\n",
       "      <th></th>\n",
       "      <th>International airline passengers: monthly totals in thousands. Jan 49 ? Dec 60</th>\n",
       "    </tr>\n",
       "  </thead>\n",
       "  <tbody>\n",
       "    <tr>\n",
       "      <th>0</th>\n",
       "      <td>112</td>\n",
       "    </tr>\n",
       "    <tr>\n",
       "      <th>1</th>\n",
       "      <td>118</td>\n",
       "    </tr>\n",
       "    <tr>\n",
       "      <th>2</th>\n",
       "      <td>132</td>\n",
       "    </tr>\n",
       "    <tr>\n",
       "      <th>3</th>\n",
       "      <td>129</td>\n",
       "    </tr>\n",
       "    <tr>\n",
       "      <th>4</th>\n",
       "      <td>121</td>\n",
       "    </tr>\n",
       "    <tr>\n",
       "      <th>...</th>\n",
       "      <td>...</td>\n",
       "    </tr>\n",
       "    <tr>\n",
       "      <th>139</th>\n",
       "      <td>606</td>\n",
       "    </tr>\n",
       "    <tr>\n",
       "      <th>140</th>\n",
       "      <td>508</td>\n",
       "    </tr>\n",
       "    <tr>\n",
       "      <th>141</th>\n",
       "      <td>461</td>\n",
       "    </tr>\n",
       "    <tr>\n",
       "      <th>142</th>\n",
       "      <td>390</td>\n",
       "    </tr>\n",
       "    <tr>\n",
       "      <th>143</th>\n",
       "      <td>432</td>\n",
       "    </tr>\n",
       "  </tbody>\n",
       "</table>\n",
       "<p>144 rows × 1 columns</p>\n",
       "</div>"
      ],
      "text/plain": [
       "     International airline passengers: monthly totals in thousands. Jan 49 ? Dec 60\n",
       "0                                                  112                             \n",
       "1                                                  118                             \n",
       "2                                                  132                             \n",
       "3                                                  129                             \n",
       "4                                                  121                             \n",
       "..                                                 ...                             \n",
       "139                                                606                             \n",
       "140                                                508                             \n",
       "141                                                461                             \n",
       "142                                                390                             \n",
       "143                                                432                             \n",
       "\n",
       "[144 rows x 1 columns]"
      ]
     },
     "execution_count": 16,
     "metadata": {},
     "output_type": "execute_result"
    }
   ],
   "source": [
    "df"
   ]
  },
  {
   "cell_type": "code",
   "execution_count": 14,
   "id": "aa5e0d2b",
   "metadata": {},
   "outputs": [
    {
     "data": {
      "text/plain": [
       "Month    International airline passengers: monthly totals in thousands. Jan 49 ? Dec 60\n",
       "1949-01  112                                                                               1\n",
       "1949-02  118                                                                               1\n",
       "1956-09  355                                                                               1\n",
       "1956-10  306                                                                               1\n",
       "1956-11  271                                                                               1\n",
       "                                                                                          ..\n",
       "1953-01  196                                                                               1\n",
       "1953-02  196                                                                               1\n",
       "1953-03  236                                                                               1\n",
       "1953-04  235                                                                               1\n",
       "1960-12  432                                                                               1\n",
       "Length: 144, dtype: int64"
      ]
     },
     "execution_count": 14,
     "metadata": {},
     "output_type": "execute_result"
    }
   ],
   "source": [
    "df.value_counts()"
   ]
  },
  {
   "cell_type": "code",
   "execution_count": 18,
   "id": "45b62476",
   "metadata": {},
   "outputs": [
    {
     "data": {
      "text/html": [
       "<div>\n",
       "<style scoped>\n",
       "    .dataframe tbody tr th:only-of-type {\n",
       "        vertical-align: middle;\n",
       "    }\n",
       "\n",
       "    .dataframe tbody tr th {\n",
       "        vertical-align: top;\n",
       "    }\n",
       "\n",
       "    .dataframe thead th {\n",
       "        text-align: right;\n",
       "    }\n",
       "</style>\n",
       "<table border=\"1\" class=\"dataframe\">\n",
       "  <thead>\n",
       "    <tr style=\"text-align: right;\">\n",
       "      <th></th>\n",
       "      <th>International airline passengers: monthly totals in thousands. Jan 49 ? Dec 60</th>\n",
       "    </tr>\n",
       "  </thead>\n",
       "  <tbody>\n",
       "    <tr>\n",
       "      <th>count</th>\n",
       "      <td>144.000000</td>\n",
       "    </tr>\n",
       "    <tr>\n",
       "      <th>mean</th>\n",
       "      <td>280.298611</td>\n",
       "    </tr>\n",
       "    <tr>\n",
       "      <th>std</th>\n",
       "      <td>119.966317</td>\n",
       "    </tr>\n",
       "    <tr>\n",
       "      <th>min</th>\n",
       "      <td>104.000000</td>\n",
       "    </tr>\n",
       "    <tr>\n",
       "      <th>25%</th>\n",
       "      <td>180.000000</td>\n",
       "    </tr>\n",
       "    <tr>\n",
       "      <th>50%</th>\n",
       "      <td>265.500000</td>\n",
       "    </tr>\n",
       "    <tr>\n",
       "      <th>75%</th>\n",
       "      <td>360.500000</td>\n",
       "    </tr>\n",
       "    <tr>\n",
       "      <th>max</th>\n",
       "      <td>622.000000</td>\n",
       "    </tr>\n",
       "  </tbody>\n",
       "</table>\n",
       "</div>"
      ],
      "text/plain": [
       "       International airline passengers: monthly totals in thousands. Jan 49 ? Dec 60\n",
       "count                                         144.000000                             \n",
       "mean                                          280.298611                             \n",
       "std                                           119.966317                             \n",
       "min                                           104.000000                             \n",
       "25%                                           180.000000                             \n",
       "50%                                           265.500000                             \n",
       "75%                                           360.500000                             \n",
       "max                                           622.000000                             "
      ]
     },
     "execution_count": 18,
     "metadata": {},
     "output_type": "execute_result"
    }
   ],
   "source": [
    "df.describe()"
   ]
  },
  {
   "cell_type": "code",
   "execution_count": 19,
   "id": "806b568d",
   "metadata": {},
   "outputs": [],
   "source": [
    "values = df.values.astype('float32')"
   ]
  },
  {
   "cell_type": "code",
   "execution_count": 23,
   "id": "c7489ec5",
   "metadata": {},
   "outputs": [
    {
     "data": {
      "text/plain": [
       "(144, 1)"
      ]
     },
     "execution_count": 23,
     "metadata": {},
     "output_type": "execute_result"
    }
   ],
   "source": [
    "values.shape"
   ]
  },
  {
   "cell_type": "code",
   "execution_count": 24,
   "id": "d951d049",
   "metadata": {},
   "outputs": [],
   "source": [
    "train_size = int((values.shape[0] * 0.67))\n",
    "test_size = values.shape[0]- train_size\n",
    "train = values[0:train_size]\n",
    "test = values[train_size:]"
   ]
  },
  {
   "cell_type": "code",
   "execution_count": 25,
   "id": "e3cbb54f",
   "metadata": {},
   "outputs": [
    {
     "data": {
      "text/plain": [
       "(96, 1)"
      ]
     },
     "execution_count": 25,
     "metadata": {},
     "output_type": "execute_result"
    }
   ],
   "source": [
    "train.shape"
   ]
  },
  {
   "cell_type": "code",
   "execution_count": 26,
   "id": "3bda825c",
   "metadata": {},
   "outputs": [
    {
     "data": {
      "text/plain": [
       "(48, 1)"
      ]
     },
     "execution_count": 26,
     "metadata": {},
     "output_type": "execute_result"
    }
   ],
   "source": [
    "test.shape"
   ]
  },
  {
   "cell_type": "code",
   "execution_count": 29,
   "id": "63ba5c45",
   "metadata": {},
   "outputs": [],
   "source": [
    "scaler = MinMaxScaler(feature_range = (0,1))\n",
    "train = scaler.fit_transform(train)\n",
    "test = scaler.transform(test)"
   ]
  },
  {
   "cell_type": "code",
   "execution_count": 33,
   "id": "59d813e3",
   "metadata": {},
   "outputs": [],
   "source": [
    "def create_dataset(data, k):\n",
    "    dataX, dataY = [],[]\n",
    "    for i in range(data.shape[0]-k):\n",
    "        x = data[i:i+k,0]\n",
    "        y = data[i+k,0]\n",
    "        dataX.append(x)\n",
    "        dataY.append(y)\n",
    "    return np.array(dataX), np.array(dataY)"
   ]
  },
  {
   "cell_type": "code",
   "execution_count": 60,
   "id": "5b54c503",
   "metadata": {},
   "outputs": [],
   "source": [
    "look_back = 12\n",
    "train_X,train_Y = create_dataset(train,look_back)\n",
    "test_X,test_Y = create_dataset(test,look_back)"
   ]
  },
  {
   "cell_type": "code",
   "execution_count": 61,
   "id": "cc061103",
   "metadata": {},
   "outputs": [],
   "source": [
    "train_X = np.reshape(train_X, (train_X.shape[0],train_X.shape[1],1))\n",
    "test_X = np.reshape(test_X, (test_X.shape[0],test_X.shape[1],1))"
   ]
  },
  {
   "cell_type": "code",
   "execution_count": 62,
   "id": "b39db169",
   "metadata": {},
   "outputs": [
    {
     "data": {
      "text/plain": [
       "(84, 12, 1)"
      ]
     },
     "execution_count": 62,
     "metadata": {},
     "output_type": "execute_result"
    }
   ],
   "source": [
    "train_X.shape"
   ]
  },
  {
   "cell_type": "code",
   "execution_count": 63,
   "id": "1b3528fa",
   "metadata": {},
   "outputs": [
    {
     "data": {
      "text/plain": [
       "(36, 12, 1)"
      ]
     },
     "execution_count": 63,
     "metadata": {},
     "output_type": "execute_result"
    }
   ],
   "source": [
    "test_X.shape"
   ]
  },
  {
   "cell_type": "code",
   "execution_count": 39,
   "id": "f51fd77a",
   "metadata": {},
   "outputs": [],
   "source": [
    "import tensorflow as tf"
   ]
  },
  {
   "cell_type": "code",
   "execution_count": 42,
   "id": "2a708f82",
   "metadata": {},
   "outputs": [],
   "source": [
    "from tensorflow.keras.models import Sequential\n",
    "from tensorflow.keras.layers import SimpleRNN, Dense"
   ]
  },
  {
   "cell_type": "code",
   "execution_count": 66,
   "id": "be63e8de",
   "metadata": {},
   "outputs": [
    {
     "name": "stdout",
     "output_type": "stream",
     "text": [
      "Epoch 1/40\n",
      "84/84 [==============================] - 2s 9ms/step - loss: 0.2725\n",
      "Epoch 2/40\n",
      "84/84 [==============================] - 1s 9ms/step - loss: 0.1017\n",
      "Epoch 3/40\n",
      "84/84 [==============================] - 1s 9ms/step - loss: 0.0667\n",
      "Epoch 4/40\n",
      "84/84 [==============================] - 1s 8ms/step - loss: 0.0556\n",
      "Epoch 5/40\n",
      "84/84 [==============================] - 1s 9ms/step - loss: 0.0517\n",
      "Epoch 6/40\n",
      "84/84 [==============================] - 1s 7ms/step - loss: 0.0475\n",
      "Epoch 7/40\n",
      "84/84 [==============================] - 1s 8ms/step - loss: 0.0447\n",
      "Epoch 8/40\n",
      "84/84 [==============================] - 0s 5ms/step - loss: 0.0416\n",
      "Epoch 9/40\n",
      "84/84 [==============================] - 0s 5ms/step - loss: 0.0399\n",
      "Epoch 10/40\n",
      "84/84 [==============================] - 1s 6ms/step - loss: 0.0368\n",
      "Epoch 11/40\n",
      "84/84 [==============================] - 0s 5ms/step - loss: 0.0351\n",
      "Epoch 12/40\n",
      "84/84 [==============================] - 0s 6ms/step - loss: 0.0353\n",
      "Epoch 13/40\n",
      "84/84 [==============================] - 0s 5ms/step - loss: 0.0324\n",
      "Epoch 14/40\n",
      "84/84 [==============================] - 1s 7ms/step - loss: 0.0313\n",
      "Epoch 15/40\n",
      "84/84 [==============================] - 1s 6ms/step - loss: 0.0301\n",
      "Epoch 16/40\n",
      "84/84 [==============================] - 1s 7ms/step - loss: 0.0288\n",
      "Epoch 17/40\n",
      "84/84 [==============================] - 0s 6ms/step - loss: 0.0274\n",
      "Epoch 18/40\n",
      "84/84 [==============================] - 1s 7ms/step - loss: 0.0270\n",
      "Epoch 19/40\n",
      "84/84 [==============================] - 1s 6ms/step - loss: 0.0256\n",
      "Epoch 20/40\n",
      "84/84 [==============================] - 1s 7ms/step - loss: 0.0245\n",
      "Epoch 21/40\n",
      "84/84 [==============================] - 1s 7ms/step - loss: 0.0236\n",
      "Epoch 22/40\n",
      "84/84 [==============================] - 1s 7ms/step - loss: 0.0226\n",
      "Epoch 23/40\n",
      "84/84 [==============================] - 1s 7ms/step - loss: 0.0216\n",
      "Epoch 24/40\n",
      "84/84 [==============================] - 1s 7ms/step - loss: 0.0211\n",
      "Epoch 25/40\n",
      "84/84 [==============================] - 1s 7ms/step - loss: 0.0204\n",
      "Epoch 26/40\n",
      "84/84 [==============================] - 1s 7ms/step - loss: 0.0196\n",
      "Epoch 27/40\n",
      "84/84 [==============================] - 1s 7ms/step - loss: 0.0190\n",
      "Epoch 28/40\n",
      "84/84 [==============================] - 1s 6ms/step - loss: 0.0187\n",
      "Epoch 29/40\n",
      "84/84 [==============================] - 1s 7ms/step - loss: 0.0174\n",
      "Epoch 30/40\n",
      "84/84 [==============================] - 1s 7ms/step - loss: 0.0163\n",
      "Epoch 31/40\n",
      "84/84 [==============================] - 1s 7ms/step - loss: 0.0157\n",
      "Epoch 32/40\n",
      "84/84 [==============================] - 1s 7ms/step - loss: 0.0147\n",
      "Epoch 33/40\n",
      "84/84 [==============================] - 1s 7ms/step - loss: 0.0140\n",
      "Epoch 34/40\n",
      "84/84 [==============================] - 1s 7ms/step - loss: 0.0132\n",
      "Epoch 35/40\n",
      "84/84 [==============================] - 1s 7ms/step - loss: 0.0125\n",
      "Epoch 36/40\n",
      "84/84 [==============================] - 1s 7ms/step - loss: 0.0119\n",
      "Epoch 37/40\n",
      "84/84 [==============================] - 1s 7ms/step - loss: 0.0112\n",
      "Epoch 38/40\n",
      "84/84 [==============================] - 1s 7ms/step - loss: 0.0102\n",
      "Epoch 39/40\n",
      "84/84 [==============================] - 1s 7ms/step - loss: 0.0097\n",
      "Epoch 40/40\n",
      "84/84 [==============================] - 1s 7ms/step - loss: 0.0092\n"
     ]
    },
    {
     "data": {
      "text/plain": [
       "<keras.callbacks.History at 0x15d19fc29d0>"
      ]
     },
     "execution_count": 66,
     "metadata": {},
     "output_type": "execute_result"
    }
   ],
   "source": [
    "model = Sequential()\n",
    "model.add(SimpleRNN(4,input_shape=(look_back,1)))\n",
    "model.add(Dense(1))\n",
    "model.compile(loss = \"mean_squared_error\", optimizer = 'adam')\n",
    "model.fit(train_X,train_Y,epochs = 40, batch_size = 1)"
   ]
  },
  {
   "cell_type": "code",
   "execution_count": 69,
   "id": "940615ac",
   "metadata": {},
   "outputs": [
    {
     "name": "stdout",
     "output_type": "stream",
     "text": [
      "Model: \"sequential_7\"\n",
      "_________________________________________________________________\n",
      " Layer (type)                Output Shape              Param #   \n",
      "=================================================================\n",
      " simple_rnn_6 (SimpleRNN)    (None, 4)                 24        \n",
      "                                                                 \n",
      " dense_5 (Dense)             (None, 1)                 5         \n",
      "                                                                 \n",
      "=================================================================\n",
      "Total params: 29\n",
      "Trainable params: 29\n",
      "Non-trainable params: 0\n",
      "_________________________________________________________________\n"
     ]
    }
   ],
   "source": [
    "model.summary()"
   ]
  },
  {
   "cell_type": "code",
   "execution_count": 84,
   "id": "7240a170",
   "metadata": {},
   "outputs": [
    {
     "name": "stdout",
     "output_type": "stream",
     "text": [
      "2/2 [==============================] - 0s 5ms/step\n",
      "3/3 [==============================] - 0s 5ms/step\n"
     ]
    }
   ],
   "source": [
    "test_pred = model.predict(test_X)\n",
    "test_pred = scaler.inverse_transform(test_pred).ravel()\n",
    "\n",
    "train_pred = model.predict(train_X)\n",
    "train_pred = scaler.inverse_transform(train_pred).ravel()\n",
    "\n",
    "test_true = scaler.inverse_transform([test_Y]).ravel()\n",
    "train_true = scaler.inverse_transform([train_Y]).ravel()"
   ]
  },
  {
   "cell_type": "code",
   "execution_count": 86,
   "id": "5fb7fc9d",
   "metadata": {},
   "outputs": [
    {
     "name": "stdout",
     "output_type": "stream",
     "text": [
      "(36,) (84,)\n",
      "(36,) (84,)\n"
     ]
    }
   ],
   "source": [
    "print(test_pred.shape, train_pred.shape)\n",
    "print(test_true.shape, train_true.shape)"
   ]
  },
  {
   "cell_type": "code",
   "execution_count": 87,
   "id": "3c08c65b",
   "metadata": {},
   "outputs": [],
   "source": [
    "import matplotlib.pyplot as plt"
   ]
  },
  {
   "cell_type": "code",
   "execution_count": 91,
   "id": "32513bf0",
   "metadata": {},
   "outputs": [
    {
     "data": {
      "image/png": "[encoded data removed]",
      "text/plain": [
       "<Figure size 432x288 with 1 Axes>"
      ]
     },
     "metadata": {
      "needs_background": "light"
     },
     "output_type": "display_data"
    }
   ],
   "source": [
    "plt.plot(train_true, c = 'g')\n",
    "plt.plot(train_pred, c = 'b')\n",
    "plt.show()"
   ]
  },
  {
   "cell_type": "code",
   "execution_count": 93,
   "id": "47f26563",
   "metadata": {},
   "outputs": [
    {
     "data": {
      "image/png": "[encoded data removed]",
      "text/plain": [
       "<Figure size 432x288 with 1 Axes>"
      ]
     },
     "metadata": {
      "needs_background": "light"
     },
     "output_type": "display_data"
    }
   ],
   "source": [
    "combinedPred = np.concatenate((train_pred,test_pred))\n",
    "combinedTrue = np.concatenate((train_true,test_true))\n",
    "plt.plot(combinedTrue, c = 'g')\n",
    "plt.plot(combinedPred, c = 'b')\n",
    "plt.show()"
   ]
  },
  {
   "cell_type": "code",
   "execution_count": null,
   "id": "df4c22a9",
   "metadata": {},
   "outputs": [],
   "source": []
  },
  {
   "cell_type": "code",
   "execution_count": null,
   "id": "fb52585e",
   "metadata": {},
   "outputs": [],
   "source": []
  }
 ],
 "metadata": {
  "kernelspec": {
   "display_name": "Python 3",
   "language": "python",
   "name": "python3"
  },
  "language_info": {
   "codemirror_mode": {
    "name": "ipython",
    "version": 3
   },
   "file_extension": ".py",
   "mimetype": "text/x-python",
   "name": "python",
   "nbconvert_exporter": "python",
   "pygments_lexer": "ipython3",
   "version": "3.9.7"
  }
 },
 "nbformat": 4,
 "nbformat_minor": 5
}
